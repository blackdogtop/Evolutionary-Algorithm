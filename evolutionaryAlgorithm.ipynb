{
  "nbformat": 4,
  "nbformat_minor": 0,
  "metadata": {
    "colab": {
      "name": "Copy of evolutionaryAlgorithm.ipynb",
      "provenance": [],
      "collapsed_sections": []
    },
    "kernelspec": {
      "name": "python3",
      "display_name": "Python 3"
    }
  },
  "cells": [
    {
      "cell_type": "code",
      "metadata": {
        "id": "4fZEw7ESJJUJ"
      },
      "source": [
        "import random\n",
        "import pandas as pd\n",
        "import matplotlib.pyplot as plt"
      ],
      "execution_count": null,
      "outputs": []
    },
    {
      "cell_type": "code",
      "metadata": {
        "id": "-QMaqvPYQBRh"
      },
      "source": [
        "# replace with your own file path\n",
        "filePath = '/content/drive/My Drive/Colab Notebooks/BankProblem.txt'"
      ],
      "execution_count": null,
      "outputs": []
    },
    {
      "cell_type": "code",
      "metadata": {
        "id": "R8BV9G8TQJ-H",
        "colab": {
          "base_uri": "https://localhost:8080/",
          "height": 241
        },
        "outputId": "3487a668-11b3-4c14-8253-7012c13873a7"
      },
      "source": [
        "# get meta data from the txt file\n",
        "def getMetaData(filePath):\n",
        "    with open(filePath, 'r') as f: lines = f.readlines()\n",
        "    capacity, bags, weights, values = 0, [], [], []\n",
        "    for line in lines:\n",
        "        if line.strip().split()[0] == 'security':\n",
        "            capacity = int(line.strip().split()[-1])\n",
        "        if line.strip().split()[0] == 'bag':\n",
        "            bags.append(int(line.strip().split()[-1][:-1]))\n",
        "        if line.strip().split()[0] == 'weight:':\n",
        "            weights.append(float(line.strip().split()[-1]))\n",
        "        if line.strip().split()[0] == 'value:':\n",
        "            values.append(int(line.strip().split()[-1]))\n",
        "    return capacity, bags, weights, values\n",
        "\n",
        "capacity, bags, weights, values = getMetaData(filePath)\n",
        "population = {bags[i]: [weights[i], values[i]] for i in range(len(weights))}  # population - {bag: [weight, value]}\n",
        "print(population)\n",
        "\n",
        "# dataframe visualise population\n",
        "data = {'weights': weights, 'values': values}\n",
        "dataDF = pd.DataFrame(data)\n",
        "dataDF.index += 1  # index start from 1\n",
        "dataDF.head(5)"
      ],
      "execution_count": null,
      "outputs": [
        {
          "output_type": "stream",
          "text": [
            "{1: [9.4, 57], 2: [7.4, 94], 3: [7.7, 59], 4: [7.4, 83], 5: [2.9, 82], 6: [1.1, 91], 7: [7.3, 42], 8: [9.0, 84], 9: [8.1, 85], 10: [7.2, 18], 11: [7.5, 94], 12: [4.2, 18], 13: [4.4, 31], 14: [5.7, 27], 15: [2.0, 31], 16: [2.0, 42], 17: [9.9, 58], 18: [9.5, 57], 19: [5.2, 55], 20: [7.1, 97], 21: [6.8, 79], 22: [1.6, 10], 23: [7.9, 34], 24: [3.0, 100], 25: [1.6, 98], 26: [9.0, 45], 27: [2.1, 19], 28: [4.9, 77], 29: [7.0, 56], 30: [6.8, 25], 31: [7.7, 60], 32: [2.1, 22], 33: [8.4, 84], 34: [1.9, 89], 35: [6.5, 12], 36: [3.8, 46], 37: [2.5, 20], 38: [4.3, 85], 39: [9.9, 42], 40: [8.5, 94], 41: [8.0, 20], 42: [1.0, 65], 43: [4.4, 27], 44: [2.6, 34], 45: [2.1, 27], 46: [7.4, 91], 47: [1.5, 17], 48: [2.2, 56], 49: [8.1, 23], 50: [7.9, 89], 51: [1.5, 18], 52: [3.5, 11], 53: [2.4, 91], 54: [1.6, 79], 55: [4.3, 14], 56: [7.5, 99], 57: [2.5, 45], 58: [7.6, 73], 59: [4.8, 81], 60: [6.5, 96], 61: [1.5, 51], 62: [2.3, 96], 63: [1.0, 63], 64: [8.1, 40], 65: [8.1, 93], 66: [6.7, 87], 67: [5.8, 71], 68: [7.7, 54], 69: [4.9, 74], 70: [1.6, 15], 71: [6.5, 32], 72: [7.4, 57], 73: [1.4, 70], 74: [4.1, 62], 75: [7.4, 12], 76: [7.4, 71], 77: [1.7, 57], 78: [1.2, 97], 79: [9.5, 48], 80: [1.9, 33], 81: [7.5, 42], 82: [6.1, 25], 83: [5.9, 59], 84: [3.7, 91], 85: [7.5, 17], 86: [9.0, 63], 87: [1.7, 81], 88: [7.9, 49], 89: [1.5, 60], 90: [7.8, 90], 91: [7.6, 87], 92: [9.3, 25], 93: [9.8, 15], 94: [8.0, 20], 95: [3.3, 76], 96: [3.9, 76], 97: [9.6, 53], 98: [7.1, 59], 99: [3.9, 40], 100: [3.9, 59]}\n"
          ],
          "name": "stdout"
        },
        {
          "output_type": "execute_result",
          "data": {
            "text/html": [
              "<div>\n",
              "<style scoped>\n",
              "    .dataframe tbody tr th:only-of-type {\n",
              "        vertical-align: middle;\n",
              "    }\n",
              "\n",
              "    .dataframe tbody tr th {\n",
              "        vertical-align: top;\n",
              "    }\n",
              "\n",
              "    .dataframe thead th {\n",
              "        text-align: right;\n",
              "    }\n",
              "</style>\n",
              "<table border=\"1\" class=\"dataframe\">\n",
              "  <thead>\n",
              "    <tr style=\"text-align: right;\">\n",
              "      <th></th>\n",
              "      <th>weights</th>\n",
              "      <th>values</th>\n",
              "    </tr>\n",
              "  </thead>\n",
              "  <tbody>\n",
              "    <tr>\n",
              "      <th>1</th>\n",
              "      <td>9.4</td>\n",
              "      <td>57</td>\n",
              "    </tr>\n",
              "    <tr>\n",
              "      <th>2</th>\n",
              "      <td>7.4</td>\n",
              "      <td>94</td>\n",
              "    </tr>\n",
              "    <tr>\n",
              "      <th>3</th>\n",
              "      <td>7.7</td>\n",
              "      <td>59</td>\n",
              "    </tr>\n",
              "    <tr>\n",
              "      <th>4</th>\n",
              "      <td>7.4</td>\n",
              "      <td>83</td>\n",
              "    </tr>\n",
              "    <tr>\n",
              "      <th>5</th>\n",
              "      <td>2.9</td>\n",
              "      <td>82</td>\n",
              "    </tr>\n",
              "  </tbody>\n",
              "</table>\n",
              "</div>"
            ],
            "text/plain": [
              "   weights  values\n",
              "1      9.4      57\n",
              "2      7.4      94\n",
              "3      7.7      59\n",
              "4      7.4      83\n",
              "5      2.9      82"
            ]
          },
          "metadata": {
            "tags": []
          },
          "execution_count": 3
        }
      ]
    },
    {
      "cell_type": "code",
      "metadata": {
        "id": "7panD2D5Kob9"
      },
      "source": [
        "class EA:\n",
        "    def __init__(self, population):\n",
        "        self.population = population\n",
        "    \n",
        "    def initPopulation(self, capacity, populationSize=100):\n",
        "        \"\"\"\n",
        "        randomly init population which the total weight is less than capacity\n",
        "        :params capacity: int\n",
        "        :params populationSize: number of population (notice: once the size larger than a specific number, probably not all the popualtion will be used)\n",
        "        :returns self.population: dict - the population after init\n",
        "        \"\"\"\n",
        "        totalWeight = 0\n",
        "        randomNums = random.sample(range(1, len(self.population)+1), populationSize)  # random generate populationSize numbers from range(1, 101)\n",
        "        for i, num in enumerate(randomNums):\n",
        "            weight = self.population[num][0]\n",
        "            totalWeight += weight\n",
        "            if totalWeight > capacity: break\n",
        "            if i == len(randomNums)-1 and totalWeight <= capacity: i += 1  # if the total weight less than the capacity, the index of i need to update\n",
        "        # update population\n",
        "        p = {num: [self.population[num][0], self.population[num][1]] for num in randomNums[:i]}\n",
        "        self.population = p\n",
        "        return self.population\n",
        "    \n",
        "    def getFitness(self):\n",
        "        \"\"\"get total fitness of the population\"\"\"\n",
        "        fitness = 0  #define fitness function as the sum of values\n",
        "        for v in self.population.values():\n",
        "            value = v[1]\n",
        "            fitness += value\n",
        "        # print('The fitness is: {}'.format(fitness))\n",
        "        return fitness\n",
        "    \n",
        "    def tournamentSelection(self, tournamentSize=2):\n",
        "        \"\"\"\n",
        "        Randomly choose a chromosome\n",
        "        :params tournamentSize: how many individual will be choose randomly to compare (the default param 2 is correspond to binary tournament)\n",
        "        :params best: the key of the best fitness individual\n",
        "        \"\"\"\n",
        "        best = None\n",
        "        for _ in range(tournamentSize):\n",
        "            # randomly select a chromosome\n",
        "            i = random.randint(0, len(self.population)-1)\n",
        "            k = list(self.population)[i]  # key of the individual\n",
        "            value = self.population[k][1]  # value of the individual \n",
        "            # print('key is: {}, value is: {}'.format(k, value))\n",
        "            if not best or value > self.population[best][1]:\n",
        "                best = k\n",
        "        return best\n",
        "    \n",
        "    def crossover(self, p1, p2):\n",
        "        \"\"\"\n",
        "        single point crossover between p1 and p2 - assuming value is chromosome\n",
        "        :params: p1, p2: the key of the individual (int)\n",
        "        :returns: c1, c2: the value of p1, p2 after crossover (int)\n",
        "        \"\"\"\n",
        "        length = max(len(str(self.population[p1][1])), len(str(self.population[p2][1])))  # find the max length between p1.value and p2.value\n",
        "        pointer = random.randint(1, length-1)  # e.g. 1|2|3 the \"|\" is the pointer (range from 1 to n-1) which is smaller than the length of chromosome\n",
        "        # swap the genes after pointer\n",
        "        c1 = str(self.population[p1][1])[:pointer] + str(self.population[p2][1])[pointer:]\n",
        "        c2 = str(self.population[p2][1])[:pointer] + str(self.population[p1][1])[pointer:]\n",
        "        return [int(c1), int(c2)]  # issue - how to deal with chromosomes with different length (what strategy)?\n",
        "    \n",
        "    def mutation(self, c, mutationRate=3):\n",
        "        \"\"\"\n",
        "        M-gene mutation\n",
        "        :params c: the value of an individual\n",
        "        :params mutationRate: int - how many times of single-gene mutation\n",
        "        :returns e: the value after c mutate\n",
        "        \"\"\"\n",
        "        c = str(c)\n",
        "        for _ in range(mutationRate):\n",
        "                pointer = random.randint(0, len(str(c))-1)  # pointer is used to decide which character(gene) to mutate\n",
        "                candidate = random.randint(0, 9)  # what will be replaced - range(0, 10)\n",
        "                c = c[:pointer] + str(candidate) + c[pointer+1:]  # mutation\n",
        "        return int(c)\n",
        "    \n",
        "    def weakestReplace(self, c):\n",
        "        \"\"\"\n",
        "        Replace First Weakest which is used the Replacement II method that mentioned in Lecture slide\n",
        "        :params c: the value of a individual\n",
        "        \"\"\"\n",
        "        for k, v in self.population.items():\n",
        "            value = v[1]\n",
        "            if c > value:\n",
        "                # print('the replaced key is {}'.format(k))\n",
        "                # print('replace {} to {}'.format(value, c), end='\\n\\n')\n",
        "                self.population[k][1] = c\n",
        "                return\n",
        "        # print('nothing to replace', end='\\n\\n')\n"
      ],
      "execution_count": null,
      "outputs": []
    },
    {
      "cell_type": "code",
      "metadata": {
        "id": "h2vuVSDTL_rG",
        "colab": {
          "base_uri": "https://localhost:8080/"
        },
        "outputId": "e0a5ac9c-9c60-4715-88a8-1b213d22ccf8"
      },
      "source": [
        "epoch, f = 0, []\n",
        "TC = 10000  # Termination Criterion\n",
        "random.seed(3)  # random seed can be changed for different trail - notice: some seed will cause endless loop\n",
        "\n",
        "\"\"\"the parameters below can be changed to optimaise the performance\"\"\"\n",
        "populationSize = 100  # as much as possible - range(0, 100)\n",
        "tournamentSize = 2  # as much as possible - range(1, 100)\n",
        "mutationRate = 3  # 玄学参数 - 个人感觉在range(1, 3)较好\n",
        "\n",
        "\n",
        "e = EA(population)\n",
        "pop = e.initPopulation(capacity, populationSize)  # init population\n",
        "\n",
        "fitness = e.getFitness()  # fitness evaluation\n",
        "f.append(fitness)\n",
        "\n",
        "loopTime, last = 0, None  # are used to record the number of invalid loop\n",
        "while fitness <= TC:\n",
        "    print('epoch: {}    fitness: {}'.format(epoch, fitness))\n",
        "\n",
        "    parents = [e.tournamentSelection(tournamentSize) for _ in range(2)]  # binary tournament select two parents\n",
        "    childrenValue = e.crossover(parents[0], parents[1])  # parents crossover\n",
        "    childrenValue = [e.mutation(child, mutationRate) for child in childrenValue]  # children mutation\n",
        "    for child in childrenValue:  # weakest replacement\n",
        "        e.weakestReplace(child)\n",
        "    fitness = e.getFitness()  # fitness evaluation\n",
        "\n",
        "    # raise ERR when the algorithm is already optimal but not achieve the termination criterion\n",
        "    loopTime = loopTime + 1 if fitness == last else 0\n",
        "    last = fitness\n",
        "    if loopTime >= 100:\n",
        "        raise RuntimeError('This evolutionary algorithm is already optimal, but it has not reached the termination criterion, different random seed can be trialed')\n",
        "    \n",
        "    f.append(fitness)\n",
        "    epoch += 1\n",
        "\n",
        "print('epoch: {}    fitness: {}'.format(epoch, fitness) + '\\nEND')"
      ],
      "execution_count": null,
      "outputs": [
        {
          "output_type": "stream",
          "text": [
            "epoch: 0    fitness: 2730\n",
            "epoch: 1    fitness: 2747\n",
            "epoch: 2    fitness: 3681\n",
            "epoch: 3    fitness: 3725\n",
            "epoch: 4    fitness: 3726\n",
            "epoch: 5    fitness: 3773\n",
            "epoch: 6    fitness: 3789\n",
            "epoch: 7    fitness: 3827\n",
            "epoch: 8    fitness: 3829\n",
            "epoch: 9    fitness: 4647\n",
            "epoch: 10    fitness: 4674\n",
            "epoch: 11    fitness: 4706\n",
            "epoch: 12    fitness: 5065\n",
            "epoch: 13    fitness: 5109\n",
            "epoch: 14    fitness: 5156\n",
            "epoch: 15    fitness: 5648\n",
            "epoch: 16    fitness: 6255\n",
            "epoch: 17    fitness: 6276\n",
            "epoch: 18    fitness: 6287\n",
            "epoch: 19    fitness: 6310\n",
            "epoch: 20    fitness: 6893\n",
            "epoch: 21    fitness: 7114\n",
            "epoch: 22    fitness: 7123\n",
            "epoch: 23    fitness: 7151\n",
            "epoch: 24    fitness: 7288\n",
            "epoch: 25    fitness: 7315\n",
            "epoch: 26    fitness: 7326\n",
            "epoch: 27    fitness: 7482\n",
            "epoch: 28    fitness: 7496\n",
            "epoch: 29    fitness: 7502\n",
            "epoch: 30    fitness: 7784\n",
            "epoch: 31    fitness: 7790\n",
            "epoch: 32    fitness: 7803\n",
            "epoch: 33    fitness: 7848\n",
            "epoch: 34    fitness: 7855\n",
            "epoch: 35    fitness: 7864\n",
            "epoch: 36    fitness: 8103\n",
            "epoch: 37    fitness: 8589\n",
            "epoch: 38    fitness: 8656\n",
            "epoch: 39    fitness: 8659\n",
            "epoch: 40    fitness: 8683\n",
            "epoch: 41    fitness: 8763\n",
            "epoch: 42    fitness: 8915\n",
            "epoch: 43    fitness: 8997\n",
            "epoch: 44    fitness: 9221\n",
            "epoch: 45    fitness: 9337\n",
            "epoch: 46    fitness: 9381\n",
            "epoch: 47    fitness: 9550\n",
            "epoch: 48    fitness: 9590\n",
            "epoch: 49    fitness: 9594\n",
            "epoch: 50    fitness: 9623\n",
            "epoch: 51    fitness: 9788\n",
            "epoch: 52    fitness: 9806\n",
            "epoch: 53    fitness: 9957\n",
            "epoch: 54    fitness: 9965\n",
            "epoch: 55    fitness: 10069\n",
            "END\n"
          ],
          "name": "stdout"
        }
      ]
    },
    {
      "cell_type": "code",
      "metadata": {
        "id": "04BcvUy0SdTV",
        "colab": {
          "base_uri": "https://localhost:8080/",
          "height": 300
        },
        "outputId": "877598d2-ed9a-482e-b0ee-0aca829caf38"
      },
      "source": [
        "# visualise the fitness correpsond to epoch\n",
        "X, Y = range(epoch+1), f[:]\n",
        "plt.rc('figure')\n",
        "plt.plot(X, Y, label = 'Fitenss')\n",
        "plt.xlabel('epoch',fontsize = 13)\n",
        "plt.ylabel('fitenss',fontsize = 13)\n",
        "plt.title('Fitness-Epoch Graph',fontsize=15) \n",
        "plt.legend()\n",
        "plt.show()"
      ],
      "execution_count": null,
      "outputs": [
        {
          "output_type": "display_data",
          "data": {
            "image/png": "[encoded data removed]",
            "text/plain": [
              "<Figure size 432x288 with 1 Axes>"
            ]
          },
          "metadata": {
            "tags": [],
            "needs_background": "light"
          }
        }
      ]
    }
  ]
}